{
  "nbformat": 4,
  "nbformat_minor": 0,
  "metadata": {
    "colab": {
      "name": "Spokendigit feature extraction.ipynb",
      "provenance": [],
      "collapsed_sections": [
        "1HPmkNS36wEv",
        "Io-WhKnHUh6P"
      ],
      "authorship_tag": "ABX9TyPLlLBpmOmI2ZPWbrAw5VJg",
      "include_colab_link": true
    },
    "kernelspec": {
      "name": "python3",
      "display_name": "Python 3"
    },
    "widgets": {
      "application/vnd.jupyter.widget-state+json": {
        "463e8869a98446b5b89f9d969f395b0a": {
          "model_module": "@jupyter-widgets/controls",
          "model_name": "HBoxModel",
          "state": {
            "_view_name": "HBoxView",
            "_dom_classes": [],
            "_model_name": "HBoxModel",
            "_view_module": "@jupyter-widgets/controls",
            "_model_module_version": "1.5.0",
            "_view_count": null,
            "_view_module_version": "1.5.0",
            "box_style": "",
            "layout": "IPY_MODEL_c8fc4f01e8284c47a35660c74f6b79ad",
            "_model_module": "@jupyter-widgets/controls",
            "children": [
              "IPY_MODEL_5db4dbaf04504fcaa49ac37918516fee",
              "IPY_MODEL_613e9db7fc6a4c4cbb56f698ea44d0eb"
            ]
          }
        },
        "c8fc4f01e8284c47a35660c74f6b79ad": {
          "model_module": "@jupyter-widgets/base",
          "model_name": "LayoutModel",
          "state": {
            "_view_name": "LayoutView",
            "grid_template_rows": null,
            "right": null,
            "justify_content": null,
            "_view_module": "@jupyter-widgets/base",
            "overflow": null,
            "_model_module_version": "1.2.0",
            "_view_count": null,
            "flex_flow": null,
            "width": null,
            "min_width": null,
            "border": null,
            "align_items": null,
            "bottom": null,
            "_model_module": "@jupyter-widgets/base",
            "top": null,
            "grid_column": null,
            "overflow_y": null,
            "overflow_x": null,
            "grid_auto_flow": null,
            "grid_area": null,
            "grid_template_columns": null,
            "flex": null,
            "_model_name": "LayoutModel",
            "justify_items": null,
            "grid_row": null,
            "max_height": null,
            "align_content": null,
            "visibility": null,
            "align_self": null,
            "height": null,
            "min_height": null,
            "padding": null,
            "grid_auto_rows": null,
            "grid_gap": null,
            "max_width": null,
            "order": null,
            "_view_module_version": "1.2.0",
            "grid_template_areas": null,
            "object_position": null,
            "object_fit": null,
            "grid_auto_columns": null,
            "margin": null,
            "display": null,
            "left": null
          }
        },
        "5db4dbaf04504fcaa49ac37918516fee": {
          "model_module": "@jupyter-widgets/controls",
          "model_name": "FloatProgressModel",
          "state": {
            "_view_name": "ProgressView",
            "style": "IPY_MODEL_d1ce580ae5d7495e9ffe1cc243f02cbb",
            "_dom_classes": [],
            "description": "",
            "_model_name": "FloatProgressModel",
            "bar_style": "info",
            "max": 1,
            "_view_module": "@jupyter-widgets/controls",
            "_model_module_version": "1.5.0",
            "value": 1,
            "_view_count": null,
            "_view_module_version": "1.5.0",
            "orientation": "horizontal",
            "min": 0,
            "description_tooltip": null,
            "_model_module": "@jupyter-widgets/controls",
            "layout": "IPY_MODEL_42b0d2f8e513485f8d6bee85fd68692e"
          }
        },
        "613e9db7fc6a4c4cbb56f698ea44d0eb": {
          "model_module": "@jupyter-widgets/controls",
          "model_name": "HTMLModel",
          "state": {
            "_view_name": "HTMLView",
            "style": "IPY_MODEL_eab92e50ed314be689e3ccde86edd049",
            "_dom_classes": [],
            "description": "",
            "_model_name": "HTMLModel",
            "placeholder": "​",
            "_view_module": "@jupyter-widgets/controls",
            "_model_module_version": "1.5.0",
            "value": " 1489100800/? [00:40&lt;00:00, 63127219.07it/s]",
            "_view_count": null,
            "_view_module_version": "1.5.0",
            "description_tooltip": null,
            "_model_module": "@jupyter-widgets/controls",
            "layout": "IPY_MODEL_fa80d9c23c754e1abbfdebcd6e3744be"
          }
        },
        "d1ce580ae5d7495e9ffe1cc243f02cbb": {
          "model_module": "@jupyter-widgets/controls",
          "model_name": "ProgressStyleModel",
          "state": {
            "_view_name": "StyleView",
            "_model_name": "ProgressStyleModel",
            "description_width": "initial",
            "_view_module": "@jupyter-widgets/base",
            "_model_module_version": "1.5.0",
            "_view_count": null,
            "_view_module_version": "1.2.0",
            "bar_color": null,
            "_model_module": "@jupyter-widgets/controls"
          }
        },
        "42b0d2f8e513485f8d6bee85fd68692e": {
          "model_module": "@jupyter-widgets/base",
          "model_name": "LayoutModel",
          "state": {
            "_view_name": "LayoutView",
            "grid_template_rows": null,
            "right": null,
            "justify_content": null,
            "_view_module": "@jupyter-widgets/base",
            "overflow": null,
            "_model_module_version": "1.2.0",
            "_view_count": null,
            "flex_flow": null,
            "width": null,
            "min_width": null,
            "border": null,
            "align_items": null,
            "bottom": null,
            "_model_module": "@jupyter-widgets/base",
            "top": null,
            "grid_column": null,
            "overflow_y": null,
            "overflow_x": null,
            "grid_auto_flow": null,
            "grid_area": null,
            "grid_template_columns": null,
            "flex": null,
            "_model_name": "LayoutModel",
            "justify_items": null,
            "grid_row": null,
            "max_height": null,
            "align_content": null,
            "visibility": null,
            "align_self": null,
            "height": null,
            "min_height": null,
            "padding": null,
            "grid_auto_rows": null,
            "grid_gap": null,
            "max_width": null,
            "order": null,
            "_view_module_version": "1.2.0",
            "grid_template_areas": null,
            "object_position": null,
            "object_fit": null,
            "grid_auto_columns": null,
            "margin": null,
            "display": null,
            "left": null
          }
        },
        "eab92e50ed314be689e3ccde86edd049": {
          "model_module": "@jupyter-widgets/controls",
          "model_name": "DescriptionStyleModel",
          "state": {
            "_view_name": "StyleView",
            "_model_name": "DescriptionStyleModel",
            "description_width": "",
            "_view_module": "@jupyter-widgets/base",
            "_model_module_version": "1.5.0",
            "_view_count": null,
            "_view_module_version": "1.2.0",
            "_model_module": "@jupyter-widgets/controls"
          }
        },
        "fa80d9c23c754e1abbfdebcd6e3744be": {
          "model_module": "@jupyter-widgets/base",
          "model_name": "LayoutModel",
          "state": {
            "_view_name": "LayoutView",
            "grid_template_rows": null,
            "right": null,
            "justify_content": null,
            "_view_module": "@jupyter-widgets/base",
            "overflow": null,
            "_model_module_version": "1.2.0",
            "_view_count": null,
            "flex_flow": null,
            "width": null,
            "min_width": null,
            "border": null,
            "align_items": null,
            "bottom": null,
            "_model_module": "@jupyter-widgets/base",
            "top": null,
            "grid_column": null,
            "overflow_y": null,
            "overflow_x": null,
            "grid_auto_flow": null,
            "grid_area": null,
            "grid_template_columns": null,
            "flex": null,
            "_model_name": "LayoutModel",
            "justify_items": null,
            "grid_row": null,
            "max_height": null,
            "align_content": null,
            "visibility": null,
            "align_self": null,
            "height": null,
            "min_height": null,
            "padding": null,
            "grid_auto_rows": null,
            "grid_gap": null,
            "max_width": null,
            "order": null,
            "_view_module_version": "1.2.0",
            "grid_template_areas": null,
            "object_position": null,
            "object_fit": null,
            "grid_auto_columns": null,
            "margin": null,
            "display": null,
            "left": null
          }
        }
      }
    }
  },
  "cells": [
    {
      "cell_type": "markdown",
      "metadata": {
        "id": "view-in-github",
        "colab_type": "text"
      },
      "source": [
        "<a href=\"https://colab.research.google.com/github/AyishaR/Spokendigit/blob/master/Spokendigit_feature_extraction.ipynb\" target=\"_parent\"><img src=\"https://colab.research.google.com/assets/colab-badge.svg\" alt=\"Open In Colab\"/></a>"
      ]
    },
    {
      "cell_type": "code",
      "metadata": {
        "id": "tT8VyV4gThU6",
        "colab_type": "code",
        "colab": {}
      },
      "source": [
        "import torch\n",
        "import tarfile\n",
        "from torchvision.datasets.utils import download_url\n",
        "import os\n",
        "import librosa\n",
        "import pandas as pd\n",
        "import numpy as np\n",
        "import torchvision.transforms as transforms\n",
        "import csv\n",
        "from PIL import Image"
      ],
      "execution_count": null,
      "outputs": []
    },
    {
      "cell_type": "markdown",
      "metadata": {
        "id": "GUrCLsVF6yar",
        "colab_type": "text"
      },
      "source": [
        "#Data"
      ]
    },
    {
      "cell_type": "code",
      "metadata": {
        "id": "L3sp7sb4UoGC",
        "colab_type": "code",
        "colab": {
          "base_uri": "https://localhost:8080/",
          "height": 86,
          "referenced_widgets": [
            "463e8869a98446b5b89f9d969f395b0a",
            "c8fc4f01e8284c47a35660c74f6b79ad",
            "5db4dbaf04504fcaa49ac37918516fee",
            "613e9db7fc6a4c4cbb56f698ea44d0eb",
            "d1ce580ae5d7495e9ffe1cc243f02cbb",
            "42b0d2f8e513485f8d6bee85fd68692e",
            "eab92e50ed314be689e3ccde86edd049",
            "fa80d9c23c754e1abbfdebcd6e3744be"
          ]
        },
        "outputId": "9a874fd3-268b-4677-fbb7-36eb8a2c147e"
      },
      "source": [
        "data = download_url(\"http://download.tensorflow.org/data/speech_commands_v0.01.tar.gz\", \"/content/\")\n",
        "\n",
        "with tarfile.open('/content/speech_commands_v0.01.tar.gz', 'r:gz') as tar:\n",
        "    tar.extractall(path='./data')"
      ],
      "execution_count": null,
      "outputs": [
        {
          "output_type": "stream",
          "text": [
            "Downloading http://download.tensorflow.org/data/speech_commands_v0.01.tar.gz to /content/speech_commands_v0.01.tar.gz\n"
          ],
          "name": "stdout"
        },
        {
          "output_type": "display_data",
          "data": {
            "application/vnd.jupyter.widget-view+json": {
              "model_id": "463e8869a98446b5b89f9d969f395b0a",
              "version_minor": 0,
              "version_major": 2
            },
            "text/plain": [
              "HBox(children=(FloatProgress(value=1.0, bar_style='info', max=1.0), HTML(value='')))"
            ]
          },
          "metadata": {
            "tags": []
          }
        }
      ]
    },
    {
      "cell_type": "code",
      "metadata": {
        "id": "Vc9kF-4nZSO5",
        "colab_type": "code",
        "colab": {
          "base_uri": "https://localhost:8080/",
          "height": 85
        },
        "outputId": "851fb924-be55-4eb6-9d69-b57c6135dcf0"
      },
      "source": [
        "data, sampling_rate = librosa.load('/content/data/one/00176480_nohash_0.wav')\n",
        "data, data.shape, sampling_rate"
      ],
      "execution_count": null,
      "outputs": [
        {
          "output_type": "execute_result",
          "data": {
            "text/plain": [
              "(array([-2.9995823e-05, -1.6769719e-04, -3.9024639e-04, ...,\n",
              "        -6.1316596e-04, -3.3654648e-04, -1.7320579e-04], dtype=float32),\n",
              " (22050,),\n",
              " 22050)"
            ]
          },
          "metadata": {
            "tags": []
          },
          "execution_count": 3
        }
      ]
    },
    {
      "cell_type": "code",
      "metadata": {
        "id": "5gSAEiOPpJAE",
        "colab_type": "code",
        "colab": {
          "base_uri": "https://localhost:8080/",
          "height": 187
        },
        "outputId": "a4acd14d-4dfa-490a-b21b-6c8b51579201"
      },
      "source": [
        "digit = ['zero', 'one', 'two', 'three', 'four', 'five', 'six', 'seven', 'eight', 'nine']\n",
        "for x in digit:\n",
        "    print(x, \": \", len(os.listdir('/content/data/'+x)))\n",
        "\n",
        "#Balanced"
      ],
      "execution_count": null,
      "outputs": [
        {
          "output_type": "stream",
          "text": [
            "zero :  2376\n",
            "one :  2370\n",
            "two :  2373\n",
            "three :  2356\n",
            "four :  2372\n",
            "five :  2357\n",
            "six :  2369\n",
            "seven :  2377\n",
            "eight :  2352\n",
            "nine :  2364\n"
          ],
          "name": "stdout"
        }
      ]
    },
    {
      "cell_type": "code",
      "metadata": {
        "id": "U_oTjgQ0WGZJ",
        "colab_type": "code",
        "colab": {
          "base_uri": "https://localhost:8080/",
          "height": 544
        },
        "outputId": "21b134fe-1997-4d87-d166-75a0ecb35730"
      },
      "source": [
        "for x in os.listdir('/content/data'):\n",
        "    if os.path.isdir('/content/data/'+x):\n",
        "        print(x, \": \", len(os.listdir('/content/data/'+x)))"
      ],
      "execution_count": null,
      "outputs": [
        {
          "output_type": "stream",
          "text": [
            "four :  2372\n",
            "go :  2372\n",
            "off :  2357\n",
            "bird :  1731\n",
            "right :  2367\n",
            "left :  2353\n",
            "yes :  2377\n",
            "happy :  1742\n",
            "eight :  2352\n",
            "dog :  1746\n",
            "wow :  1745\n",
            "stop :  2380\n",
            "six :  2369\n",
            "cat :  1733\n",
            "_background_noise_ :  7\n",
            "one :  2370\n",
            "up :  2375\n",
            "zero :  2376\n",
            "two :  2373\n",
            "house :  1750\n",
            "sheila :  1734\n",
            "on :  2367\n",
            "bed :  1713\n",
            "down :  2359\n",
            "tree :  1733\n",
            "three :  2356\n",
            "seven :  2377\n",
            "no :  2375\n",
            "five :  2357\n",
            "marvin :  1746\n",
            "nine :  2364\n"
          ],
          "name": "stdout"
        }
      ]
    },
    {
      "cell_type": "markdown",
      "metadata": {
        "id": "SPP40F-q7sZA",
        "colab_type": "text"
      },
      "source": [
        "# Reference csv files\n",
        "\n",
        "Two csv files are created.\n",
        "\n",
        "* A csv file with the path of all the recordings and the label (Spoken_digit.csv).\n",
        "* A csv file that contains the path of recording categorized by label (Spoken_digit_X.csv)."
      ]
    },
    {
      "cell_type": "code",
      "metadata": {
        "id": "eEW3Xhyg7_pP",
        "colab_type": "code",
        "colab": {}
      },
      "source": [
        "import csv\n",
        "d = {}\n",
        "with open(\"Spoken_digit.csv\", 'w') as csvfile:\n",
        "    csvwriter = csv.writer(csvfile)\n",
        "    csvwriter.writerow([\"File\", \"Label\"])\n",
        "    for x in digit:\n",
        "        if os.path.isdir('/content/data/'+x):\n",
        "            d[x] = os.listdir('/content/data/'+x)\n",
        "            for name in os.listdir('/content/data/'+x):\n",
        "                if os.path.isfile('/content/data/'+x+\"/\"+name):\n",
        "                    csvwriter.writerow([x+'/'+name, x])\n",
        "\n",
        "#shuffle \n",
        "df = pd.read_csv('Spoken_digit.csv')\n",
        "df = df.sample(frac=1)\n",
        "df.to_csv('Spoken_digit.csv', index = False)\n",
        "\n",
        "dfx = pd.DataFrame.from_dict(d, orient='index', dtype = 'float32').transpose()\n",
        "dfx.to_csv('Spoken_digit_X.csv', index = False)\n",
        "'''"
      ],
      "execution_count": null,
      "outputs": []
    },
    {
      "cell_type": "markdown",
      "metadata": {
        "id": "gGgNMcOsHa8s",
        "colab_type": "text"
      },
      "source": [
        "#Feature extraction from dataset \n",
        "\n",
        "Extract features each time datapoint is called, i.e., extract_features() in dataset class, as below.\n",
        "\n",
        "This method is time consuming.\n",
        "\n",
        "So, we extract the features and store them beforehand (code in later section)."
      ]
    },
    {
      "cell_type": "code",
      "metadata": {
        "id": "xi-dvohSHd32",
        "colab_type": "code",
        "colab": {}
      },
      "source": [
        "def extract_features(path):\n",
        "    data, sr = librosa.load('/content/data/'+path)\n",
        "    mfccs = np.mean(librosa.feature.mfcc(y = data, sr=sr).T, axis = 0)\n",
        "    spectral_centroids = librosa.feature.spectral_centroid(data+0.01, sr=sr)[0]\n",
        "    stft = np.abs(librosa.stft(data))\n",
        "    chroma = np.mean(librosa.feature.chroma_stft(S = stft, sr = sr).T, axis = 0)\n",
        "    mel = np.mean(librosa.feature.melspectrogram(data, sr).T, axis = 0)\n",
        "    contrast = np.mean(librosa.feature.spectral_contrast(S = stft, sr = sr).T, axis = 0)\n",
        "    tonnetz = np.mean(librosa.feature.tonnetz(y = librosa.effects.harmonic(data), sr = sr).T, axis = 0)\n",
        "    \n",
        "    #print(mfccs.shape, spectral_centroids.shape, stft.shape, chroma.shape, mel.shape, contrast.shape, tonnetz.shape)\n",
        "    \n",
        "    #spectral_centroids have varying shapes for each datapoint and stft is 2d array. Thus they are not included in the final features.\n",
        "    return np.concatenate((mfccs, chroma, mel, contrast, tonnetz), axis = 0).astype('float32')"
      ],
      "execution_count": null,
      "outputs": []
    },
    {
      "cell_type": "code",
      "metadata": {
        "id": "bfpmcfq195go",
        "colab_type": "code",
        "colab": {}
      },
      "source": [
        "class SpokenDigist(Dataset):\n",
        "    def __init__(self, file = None, rootdir = None):\n",
        "        self.df = pd.read_csv(file)\n",
        "        self.rootdir = rootdir\n",
        "\n",
        "    def __len__(self):\n",
        "        return len(self.df)\n",
        "\n",
        "    def __getitem__(self, i):\n",
        "        row = self.df.loc[i]\n",
        "        fname, label = row['File'], row['Label']\n",
        "        fts = extract_features(fname)\n",
        "        #print(len(fts))\n",
        "        return torch.tensor(fts), torch.tensor(digit.index(label))\n",
        "    \n",
        "    def getsr(self, i):\n",
        "        fname, label = row['File'], row['Label']\n",
        "        _, sr = librosa.load(self.rootdir+'/'+fname)\n",
        "        return sr"
      ],
      "execution_count": null,
      "outputs": []
    },
    {
      "cell_type": "code",
      "metadata": {
        "id": "z5mZ92UY_FBk",
        "colab_type": "code",
        "colab": {}
      },
      "source": [
        "spoken_dset = SpokenDigit(file = \"Spoken_digit.csv\", rootdir = \"/content/data/\")"
      ],
      "execution_count": null,
      "outputs": []
    },
    {
      "cell_type": "markdown",
      "metadata": {
        "id": "qwNMV6p74Q6I",
        "colab_type": "text"
      },
      "source": [
        "#Mel cnn\n",
        "\n",
        "Extracting melspectogram image for each image. Stored in drive. Takes about 4.5+hours.\n",
        "\n",
        "Ran separately for each digit using Spoken_digit_X.csv generated above."
      ]
    },
    {
      "cell_type": "code",
      "metadata": {
        "id": "a7KViMnyatW_",
        "colab_type": "code",
        "colab": {}
      },
      "source": [
        "from google.colab import files\n",
        "from google.colab import drive\n",
        "drive.mount('/content/drive')"
      ],
      "execution_count": null,
      "outputs": []
    },
    {
      "cell_type": "code",
      "metadata": {
        "id": "25K7Oadz4TFZ",
        "colab_type": "code",
        "colab": {}
      },
      "source": [
        "sp = pd.read_csv('Spoken_digit_X.csv')"
      ],
      "execution_count": null,
      "outputs": []
    },
    {
      "cell_type": "code",
      "metadata": {
        "id": "rCWV3Zp64Yxd",
        "colab_type": "code",
        "colab": {}
      },
      "source": [
        "def extract_mel(f, label):\n",
        "    \n",
        "    data, sr = librosa.load('/content/data/'+label+'/'+f)\n",
        "    \n",
        "    fig = plt.figure(figsize=[1,1])\n",
        "    ax = fig.add_subplot(111)\n",
        "    ax.axes.get_xaxis().set_visible(False)\n",
        "    ax.axes.get_yaxis().set_visible(False)\n",
        "    ax.set_frame_on(False)\n",
        "    \n",
        "    S = librosa.feature.melspectrogram(y=data, sr=sr)\n",
        "    librosa.display.specshow(librosa.power_to_db(S, ref=np.max), x_axis='time', y_axis='mel', fmin=50, fmax=280)\n",
        "    file  = '/content/drive/My Drive/Dataset/spokendigit/'+label+'/' + str(f[:-4]) + '.jpg'\n",
        "    plt.savefig(file, dpi=500, bbox_inches='tight',pad_inches=0)\n",
        "    \n",
        "    plt.close()"
      ],
      "execution_count": null,
      "outputs": []
    },
    {
      "cell_type": "code",
      "metadata": {
        "id": "KRT5vLLKdqGc",
        "colab_type": "code",
        "colab": {}
      },
      "source": [
        "for lbl in digit:\n",
        "    j=0\n",
        "    print(lbl)\n",
        "    for t in sp[lbl]:\n",
        "        if type(t) == str:\n",
        "            print(j)\n",
        "            j = j+1\n",
        "            extract_mel(t, lbl)"
      ],
      "execution_count": null,
      "outputs": []
    },
    {
      "cell_type": "markdown",
      "metadata": {
        "id": "11bn6lDzMFqg",
        "colab_type": "text"
      },
      "source": [
        "#Individual features\n",
        "\n",
        "Extracting and simultaneously writing to a csv file, each element of each feature separately. Takes about 4.5+hours. \n",
        "\n",
        "### CSV details - \n",
        "\n",
        "label, mfccs, chroma, mel, contrast, tonnetz\n",
        "\n",
        "(1,) (20,) (12,) (128,) (7,) (6,)\n",
        "\n",
        "Stft is a 2D array. So its not included.\n"
      ]
    },
    {
      "cell_type": "code",
      "metadata": {
        "id": "4RXi6OTQS14m",
        "colab_type": "code",
        "colab": {}
      },
      "source": [
        "sp = pd.read_csv(\"Spoken_digit.csv\")"
      ],
      "execution_count": null,
      "outputs": []
    },
    {
      "cell_type": "code",
      "metadata": {
        "id": "LERXPd0gEhA6",
        "colab_type": "code",
        "colab": {}
      },
      "source": [
        "csvfile = open(\"Spokendigit_final_fts.csv\", \"w\")\n",
        "csvwriter = csv.writer(csvfile)\n",
        "csvwriter.writerow(np.concatenate((['Label'], [i for i in range(1, 174)])))"
      ],
      "execution_count": null,
      "outputs": []
    },
    {
      "cell_type": "code",
      "metadata": {
        "id": "sTIqMXv-MIhO",
        "colab_type": "code",
        "colab": {}
      },
      "source": [
        "def extract_features(files):\n",
        "    data, sr = librosa.load('/content/data/'+files.File)\n",
        "    mfccs = np.mean(librosa.feature.mfcc(y = data, sr=sr).T, axis = 0)\n",
        "    stft = np.abs(librosa.stft(data))\n",
        "    chroma = np.mean(librosa.feature.chroma_stft(S = stft, sr = sr).T, axis = 0)\n",
        "    mel = np.mean(librosa.feature.melspectrogram(data, sr).T, axis = 0)\n",
        "    contrast = np.mean(librosa.feature.spectral_contrast(S = stft, sr = sr).T, axis = 0)\n",
        "    tonnetz = np.mean(librosa.feature.tonnetz(y = librosa.effects.harmonic(data), sr = sr).T, axis = 0)\n",
        "    \n",
        "    #print(mfccs.shape, stft.shape, chroma.shape, mel.shape, contrast.shape, tonnetz.shape)\n",
        "    \n",
        "    row =  np.concatenate((mfccs, chroma, mel, contrast, tonnetz), axis = 0).astype('float32')\n",
        "    csvwriter.writerow(np.concatenate(([digit.index(files.Label)], row)))"
      ],
      "execution_count": null,
      "outputs": []
    },
    {
      "cell_type": "code",
      "metadata": {
        "id": "XJepGaY3Sw37",
        "colab_type": "code",
        "colab": {}
      },
      "source": [
        "sp.apply(extract_features, axis = 1)"
      ],
      "execution_count": null,
      "outputs": []
    }
  ]
}